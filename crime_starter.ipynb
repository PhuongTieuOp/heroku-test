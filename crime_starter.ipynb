{
 "cells": [
  {
   "cell_type": "code",
   "execution_count": 27,
   "metadata": {},
   "outputs": [],
   "source": [
    "%matplotlib inline\n",
    "from matplotlib import style\n",
    "style.use('fivethirtyeight')\n",
    "import matplotlib.pyplot as plt\n",
    "from db_conn import DB_conn\n",
    "from sqlalchemy import inspect"
   ]
  },
  {
   "cell_type": "code",
   "execution_count": 31,
   "metadata": {},
   "outputs": [],
   "source": [
    "import numpy as np\n",
    "import pandas as pd\n",
    "import datetime as dt"
   ]
  },
  {
   "cell_type": "code",
   "execution_count": 32,
   "metadata": {},
   "outputs": [],
   "source": [
    "# Python SQL toolkit and Object Relational Mapper\n",
    "import sqlalchemy\n",
    "from sqlalchemy.ext.automap import automap_base\n",
    "from sqlalchemy.orm import Session\n",
    "from sqlalchemy import create_engine, func, desc, asc"
   ]
  },
  {
   "cell_type": "code",
   "execution_count": 33,
   "metadata": {},
   "outputs": [],
   "source": [
    "# Create an engine for the hawaii.sqlite database\n",
    "engine = create_engine(DB_conn)"
   ]
  },
  {
   "cell_type": "code",
   "execution_count": 43,
   "metadata": {},
   "outputs": [
    {
     "data": {
      "text/html": [
       "<div>\n",
       "<style scoped>\n",
       "    .dataframe tbody tr th:only-of-type {\n",
       "        vertical-align: middle;\n",
       "    }\n",
       "\n",
       "    .dataframe tbody tr th {\n",
       "        vertical-align: top;\n",
       "    }\n",
       "\n",
       "    .dataframe thead th {\n",
       "        text-align: right;\n",
       "    }\n",
       "</style>\n",
       "<table border=\"1\" class=\"dataframe\">\n",
       "  <thead>\n",
       "    <tr style=\"text-align: right;\">\n",
       "      <th></th>\n",
       "      <th>year</th>\n",
       "      <th>region_name</th>\n",
       "      <th>lga_name</th>\n",
       "      <th>incident_count</th>\n",
       "      <th>rate_per_100000pop</th>\n",
       "    </tr>\n",
       "  </thead>\n",
       "  <tbody>\n",
       "    <tr>\n",
       "      <th>0</th>\n",
       "      <td>2022</td>\n",
       "      <td>1 North West Metro</td>\n",
       "      <td>Banyule</td>\n",
       "      <td>5244</td>\n",
       "      <td>4086.865525</td>\n",
       "    </tr>\n",
       "    <tr>\n",
       "      <th>1</th>\n",
       "      <td>2022</td>\n",
       "      <td>1 North West Metro</td>\n",
       "      <td>Brimbank</td>\n",
       "      <td>12330</td>\n",
       "      <td>6200.959480</td>\n",
       "    </tr>\n",
       "    <tr>\n",
       "      <th>2</th>\n",
       "      <td>2022</td>\n",
       "      <td>1 North West Metro</td>\n",
       "      <td>Darebin</td>\n",
       "      <td>9276</td>\n",
       "      <td>5751.475727</td>\n",
       "    </tr>\n",
       "    <tr>\n",
       "      <th>3</th>\n",
       "      <td>2022</td>\n",
       "      <td>1 North West Metro</td>\n",
       "      <td>Hobsons Bay</td>\n",
       "      <td>4599</td>\n",
       "      <td>4804.896128</td>\n",
       "    </tr>\n",
       "    <tr>\n",
       "      <th>4</th>\n",
       "      <td>2022</td>\n",
       "      <td>1 North West Metro</td>\n",
       "      <td>Hume</td>\n",
       "      <td>12196</td>\n",
       "      <td>4919.684615</td>\n",
       "    </tr>\n",
       "  </tbody>\n",
       "</table>\n",
       "</div>"
      ],
      "text/plain": [
       "   year         region_name     lga_name  incident_count  rate_per_100000pop\n",
       "0  2022  1 North West Metro      Banyule            5244         4086.865525\n",
       "1  2022  1 North West Metro     Brimbank           12330         6200.959480\n",
       "2  2022  1 North West Metro      Darebin            9276         5751.475727\n",
       "3  2022  1 North West Metro  Hobsons Bay            4599         4804.896128\n",
       "4  2022  1 North West Metro         Hume           12196         4919.684615"
      ]
     },
     "execution_count": 43,
     "metadata": {},
     "output_type": "execute_result"
    }
   ],
   "source": [
    "import pandas as pd\n",
    "df = pd.read_sql(\"Select * from region_incident\",engine)\n",
    "df.head()\n"
   ]
  },
  {
   "cell_type": "code",
   "execution_count": 47,
   "metadata": {},
   "outputs": [
    {
     "data": {
      "text/plain": [
       "',year,region_name,lga_name,incident_count,rate_per_100000pop\\r\\n0,2022,1 North West Metro,Banyule,5244,4086.865525466\\r\\n1,2022,1 North West Metro,Brimbank,12330,6200.959480232\\r\\n2,2022,1 North West Metro,Darebin,9276,5751.475727256\\r\\n3,2022,1 North West Metro,Hobsons Bay,4599,4804.89612819\\r\\n4,2022,1 North West Metro,Hume,12196,4919.684614534\\r\\n5,2022,1 North West Metro,Maribyrnong,7025,7486.953068068\\r\\n6,2022,1 North West Metro,Melbourne,25036,14582.311374876\\r\\n7,2022,1 North West Metro,Melton,8805,4668.504451099\\r\\n8,2022,1 North West Metro,Moonee Valley,6018,4685.637553682\\r\\n9,2022,1 North West Metro,Moreland,9173,4992.233638729\\r\\n10,2022,1 North West Metro,Nillumbik,1319,2063.770802694\\r\\n11,2022,1 North West Metro,Whittlesea,8939,3720.498248721\\r\\n12,2022,1 North West Metro,Wyndham,12094,4048.936235895\\r\\n13,2022,1 North West Metro,Yarra,8790,8734.362735294\\r\\n14,2022,2 Eastern,Alpine,371,2827.30161542\\r\\n15,2022,2 Eastern,Bass Coast,2147,5360.565038689\\r\\n16,2022,2 Eastern,Baw Baw,3036,5205.671945141\\r\\n17,2022,2 Eastern,Benalla,978,6900.8966767\\r\\n18,2022,2 Eastern,Boroondara,5448,3117.506027675\\r\\n19,2022,2 Eastern,East Gippsland,3640,7434.664595923\\r\\n20,2022,2 Eastern,Greater Shepparton,5785,8622.304460955\\r\\n21,2022,2 Eastern,Indigo,465,2718.087515359\\r\\n22,2022,2 Eastern,Knox,6631,4132.500067609\\r\\n23,2022,2 Eastern,Latrobe,7826,10243.784764294\\r\\n24,2022,2 Eastern,Manningham,2867,2288.265093745\\r\\n25,2022,2 Eastern,Mansfield,339,3430.63658528\\r\\n26,2022,2 Eastern,Maroondah,5094,4367.476560633\\r\\n27,2022,2 Eastern,Mitchell,2350,4589.877335431\\r\\n28,2022,2 Eastern,Moira,1573,5218.356630046\\r\\n29,2022,2 Eastern,Monash,8309,4227.536271064\\r\\n30,2022,2 Eastern,Murrindindi,531,3545.543600664\\r\\n31,2022,2 Eastern,South Gippsland,1194,3896.177051074\\r\\n32,2022,2 Eastern,Strathbogie,446,3943.839096258\\r\\n33,2022,2 Eastern,Towong,148,2424.042939333\\r\\n34,2022,2 Eastern,Wangaratta,1655,5593.184073972\\r\\n35,2022,2 Eastern,Wellington,2964,6528.415062054\\r\\n36,2022,2 Eastern,Whitehorse,5459,3120.210745078\\r\\n37,2022,2 Eastern,Wodonga,2682,6124.529573123\\r\\n38,2022,2 Eastern,Yarra Ranges,4986,3164.298740035\\r\\n39,2022,3 Southern Metro,Bayside,3346,3217.395462919\\r\\n40,2022,3 Southern Metro,Cardinia,4618,3835.877021702\\r\\n41,2022,3 Southern Metro,Casey,14154,3790.374659932\\r\\n42,2022,3 Southern Metro,Frankston,8319,5958.041941685\\r\\n43,2022,3 Southern Metro,Glen Eira,5032,3284.949982131\\r\\n44,2022,3 Southern Metro,Greater Dandenong,11369,7044.528517872\\r\\n45,2022,3 Southern Metro,Kingston,6823,4194.111582722\\r\\n46,2022,3 Southern Metro,Mornington Peninsula,6420,3806.322915619\\r\\n47,2022,3 Southern Metro,Port Phillip,9157,8215.660527162\\r\\n48,2022,3 Southern Metro,Stonnington,7820,6914.164943547\\r\\n49,2022,4 Western,Ararat,960,8008.42003121\\r\\n50,2022,4 Western,Ballarat,7594,6573.501073865\\r\\n51,2022,4 Western,Buloke,224,3692.993356252\\r\\n52,2022,4 Western,Campaspe,2419,6388.455074096\\r\\n53,2022,4 Western,Central Goldfields,823,6223.254223026\\r\\n54,2022,4 Western,Colac-Otway,1214,5669.299512991\\r\\n55,2022,4 Western,Corangamite,580,3701.057294251\\r\\n56,2022,4 Western,Gannawarra,565,5394.611116803\\r\\n57,2022,4 Western,Glenelg,1203,6160.286874483\\r\\n58,2022,4 Western,Golden Plains,420,1664.088513719\\r\\n59,2022,4 Western,Greater Bendigo,7501,6091.569462131\\r\\n60,2022,4 Western,Greater Geelong,14569,5291.348003254\\r\\n61,2022,4 Western,Hepburn,436,2662.84381795\\r\\n62,2022,4 Western,Hindmarsh,304,5482.881243084\\r\\n63,2022,4 Western,Horsham,1608,8030.751095373\\r\\n64,2022,4 Western,Loddon,387,5139.654249974\\r\\n65,2022,4 Western,Macedon Ranges,1391,2654.612253837\\r\\n66,2022,4 Western,Mildura,4895,8897.562805423\\r\\n67,2022,4 Western,Moorabool,1573,4207.418457443\\r\\n68,2022,4 Western,Mount Alexander,716,3514.073447963\\r\\n69,2022,4 Western,Moyne,546,3143.793685225\\r\\n70,2022,4 Western,Northern Grampians,806,7083.105348942\\r\\n71,2022,4 Western,Pyrenees,302,3944.853713697\\r\\n72,2022,4 Western,Queenscliffe,118,3841.296016113\\r\\n73,2022,4 Western,Southern Grampians,799,5010.409133969\\r\\n74,2022,4 Western,Surf Coast,1049,2803.262665471\\r\\n75,2022,4 Western,Swan Hill,1696,8467.603142976\\r\\n76,2022,4 Western,Warrnambool,2207,6157.010349841\\r\\n77,2022,4 Western,West Wimmera,151,4063.539395813\\r\\n78,2022,4 Western,Yarriambiack,304,4788.4927465\\r\\n79,2022,Justice Institutions and Immigration Facilities,Justice Institutions and Immigration Facilities,900,\\r\\n80,2022,Unincorporated Vic,Unincorporated Vic,73,\\r\\n81,2021,1 North West Metro,Banyule,6286,4858.293337043\\r\\n82,2021,1 North West Metro,Brimbank,14514,7196.548988497\\r\\n83,2021,1 North West Metro,Darebin,11475,7061.495006185\\r\\n84,2021,1 North West Metro,Hobsons Bay,4461,4631.581133133\\r\\n85,2021,1 North West Metro,Hume,15479,6350.671622808\\r\\n86,2021,1 North West Metro,Maribyrnong,7048,7540.62931302\\r\\n87,2021,1 North West Metro,Melbourne,25957,15281.408218533\\r\\n88,2021,1 North West Metro,Melton,9883,5517.930622477\\r\\n89,2021,1 North West Metro,Moonee Valley,6108,4721.013456589\\r\\n90,2021,1 North West Metro,Moreland,10148,5494.106882793\\r\\n91,2021,1 North West Metro,Nillumbik,1522,2353.887316538\\r\\n92,2021,1 North West Metro,Whittlesea,11453,4813.560176857\\r\\n93,2021,1 North West Metro,Wyndham,12706,4387.870332319\\r\\n94,2021,1 North West Metro,Yarra,10827,10868.081347494\\r\\n95,2021,2 Eastern,Alpine,400,3060.677940164\\r\\n96,2021,2 Eastern,Bass Coast,2096,5398.583386993\\r\\n97,2021,2 Eastern,Baw Baw,3585,6335.825247866\\r\\n98,2021,2 Eastern,Benalla,995,7041.256811266\\r\\n99,2021,2 Eastern,Boroondara,5954,3370.850129082\\r\\n100,2021,2 Eastern,East Gippsland,3629,7501.653712585\\r\\n101,2021,2 Eastern,Greater Shepparton,5937,8889.587638128\\r\\n102,2021,2 Eastern,Indigo,427,2514.87131162\\r\\n103,2021,2 Eastern,Knox,8283,5088.806836683\\r\\n104,2021,2 Eastern,Latrobe,9087,11932.086769263\\r\\n105,2021,2 Eastern,Manningham,3371,2655.920078157\\r\\n106,2021,2 Eastern,Mansfield,388,3983.572895277\\r\\n107,2021,2 Eastern,Maroondah,5708,4858.533928024\\r\\n108,2021,2 Eastern,Mitchell,3163,6426.771781534\\r\\n109,2021,2 Eastern,Moira,1630,5433.152228259\\r\\n110,2021,2 Eastern,Monash,9572,4834.831801192\\r\\n111,2021,2 Eastern,Murrindindi,663,4453.550077249\\r\\n112,2021,2 Eastern,South Gippsland,1264,4150.385815137\\r\\n113,2021,2 Eastern,Strathbogie,453,4056.595325513\\r\\n114,2021,2 Eastern,Towong,153,2519.347933476\\r\\n115,2021,2 Eastern,Wangaratta,1658,5643.486844345\\r\\n116,2021,2 Eastern,Wellington,3218,7136.520890624\\r\\n117,2021,2 Eastern,Whitehorse,6947,3947.832016821\\r\\n118,2021,2 Eastern,Wodonga,2417,5596.721159635\\r\\n119,2021,2 Eastern,Yarra Ranges,6111,3847.48569234\\r\\n120,2021,3 Southern Metro,Bayside,3827,3624.739534003\\r\\n121,2021,3 Southern Metro,Cardinia,5563,4687.592163472\\r\\n122,2021,3 Southern Metro,Casey,16137,4374.818698643\\r\\n123,2021,3 Southern Metro,Frankston,10207,7180.594736435\\r\\n124,2021,3 Southern Metro,Glen Eira,6020,3880.791372008\\r\\n125,2021,3 Southern Metro,Greater Dandenong,14221,8710.325481117\\r\\n126,2021,3 Southern Metro,Kingston,8041,4882.803011902\\r\\n127,2021,3 Southern Metro,Mornington Peninsula,7617,4510.703816658\\r\\n128,2021,3 Southern Metro,Port Phillip,10175,9077.365021589\\r\\n129,2021,3 Southern Metro,Stonnington,8943,7821.409830331\\r\\n130,2021,4 Western,Ararat,1087,9117.597718504\\r\\n131,2021,4 Western,Ballarat,7188,6350.777060159\\r\\n132,2021,4 Western,Buloke,244,4019.107231099\\r\\n133,2021,4 Western,Campaspe,2456,6503.892802288\\r\\n134,2021,4 Western,Central Goldfields,820,6233.845218185\\r\\n135,2021,4 Western,Colac-Otway,1226,5693.851012447\\r\\n136,2021,4 Western,Corangamite,682,4312.907101752\\r\\n137,2021,4 Western,Gannawarra,639,6121.862425752\\r\\n138,2021,4 Western,Glenelg,1048,5358.147144537\\r\\n139,2021,4 Western,Golden Plains,450,1817.080557238\\r\\n140,2021,4 Western,Greater Bendigo,8000,6590.763045592\\r\\n141,2021,4 Western,Greater Geelong,15511,5755.302254479\\r\\n142,2021,4 Western,Hepburn,507,3114.059332965\\r\\n143,2021,4 Western,Hindmarsh,287,5158.159597412\\r\\n144,2021,4 Western,Horsham,1472,7374.38004108\\r\\n145,2021,4 Western,Loddon,412,5495.531545952\\r\\n146,2021,4 Western,Macedon Ranges,1853,3581.160736718\\r\\n147,2021,4 Western,Mildura,4405,7975.015841405\\r\\n148,2021,4 Western,Moorabool,1990,5411.579147744\\r\\n149,2021,4 Western,Mount Alexander,728,3604.674192909\\r\\n150,2021,4 Western,Moyne,509,2955.693629871\\r\\n151,2021,4 Western,Northern Grampians,894,7855.197258589\\r\\n152,2021,4 Western,Pyrenees,344,4513.251115193\\r\\n153,2021,4 Western,Queenscliffe,81,2652.259332024\\r\\n154,2021,4 Western,Southern Grampians,791,4929.270268586\\r\\n155,2021,4 Western,Surf Coast,1164,3208.556149733\\r\\n156,2021,4 Western,Swan Hill,1857,9211.766456669\\r\\n157,2021,4 Western,Warrnambool,2200,6178.560395428\\r\\n158,2021,4 Western,West Wimmera,122,3253.333333333\\r\\n159,2021,4 Western,Yarriambiack,333,5161.990389087\\r\\n160,2021,Justice Institutions and Immigration Facilities,Justice Institutions and Immigration Facilities,1270,\\r\\n161,2021,Unincorporated Vic,Unincorporated Vic,30,\\r\\n162,2020,1 North West Metro,Banyule,7262,5505.894840593\\r\\n163,2020,1 North West Metro,Brimbank,15480,7437.05169904\\r\\n164,2020,1 North West Metro,Darebin,11895,7150.328211787\\r\\n165,2020,1 North West Metro,Hobsons Bay,4906,4998.675442708\\r\\n166,2020,1 North West Metro,Hume,15894,6593.981032036\\r\\n167,2020,1 North West Metro,Maribyrnong,7305,7695.305916063\\r\\n168,2020,1 North West Metro,Melbourne,26901,14649.726621212\\r\\n169,2020,1 North West Metro,Melton,9320,5406.09519832\\r\\n170,2020,1 North West Metro,Moonee Valley,6719,5101.668919227\\r\\n171,2020,1 North West Metro,Moreland,11100,5883.600127213\\r\\n172,2020,1 North West Metro,Nillumbik,1691,2593.558282209\\r\\n173,2020,1 North West Metro,Whittlesea,12248,5180.807999628\\r\\n174,2020,1 North West Metro,Wyndham,13871,4899.993641418\\r\\n175,2020,1 North West Metro,Yarra,11428,11086.964957895\\r\\n176,2020,2 Eastern,Alpine,438,3376.763549456\\r\\n177,2020,2 Eastern,Bass Coast,1786,4770.426560538\\r\\n178,2020,2 Eastern,Baw Baw,3587,6537.746509678\\r\\n179,2020,2 Eastern,Benalla,935,6614.785992218\\r\\n180,2020,2 Eastern,Boroondara,6521,3563.894323784\\r\\n181,2020,2 Eastern,East Gippsland,3638,7623.478133317\\r\\n182,2020,2 Eastern,Greater Shepparton,6382,9519.405745652\\r\\n183,2020,2 Eastern,Indigo,430,2547.091576827\\r\\n184,2020,2 Eastern,Knox,8873,5374.579022606\\r\\n185,2020,2 Eastern,Latrobe,10075,13274.919296396\\r\\n186,2020,2 Eastern,Manningham,3741,2902.429941346\\r\\n187,2020,2 Eastern,Mansfield,337,3557.85472973\\r\\n188,2020,2 Eastern,Maroondah,5920,4959.993297306\\r\\n189,2020,2 Eastern,Mitchell,3120,6550.905998698\\r\\n190,2020,2 Eastern,Moira,1835,6114.220978275\\r\\n191,2020,2 Eastern,Monash,9577,4675.24225634\\r\\n192,2020,2 Eastern,Murrindindi,598,4079.405143598\\r\\n193,2020,2 Eastern,South Gippsland,1359,4493.601825216\\r\\n194,2020,2 Eastern,Strathbogie,475,4322.111010009\\r\\n195,2020,2 Eastern,Towong,155,2540.567120144\\r\\n196,2020,2 Eastern,Wangaratta,1748,5988.147031619\\r\\n197,2020,2 Eastern,Wellington,3385,7562.38689931\\r\\n198,2020,2 Eastern,Whitehorse,7354,4070.539786565\\r\\n199,2020,2 Eastern,Wodonga,2828,6631.492554813\\r\\n200,2020,2 Eastern,Yarra Ranges,6187,3869.269110262\\r\\n201,2020,3 Southern Metro,Bayside,4195,3901.744856579\\r\\n202,2020,3 Southern Metro,Cardinia,5449,4692.114939164\\r\\n203,2020,3 Southern Metro,Casey,17145,4705.071982524\\r\\n204,2020,3 Southern Metro,Frankston,11096,7744.222890683\\r\\n205,2020,3 Southern Metro,Glen Eira,6105,3860.283656552\\r\\n206,2020,3 Southern Metro,Greater Dandenong,14725,8750.973155758\\r\\n207,2020,3 Southern Metro,Kingston,9034,5402.205372306\\r\\n208,2020,3 Southern Metro,Mornington Peninsula,8620,5105.6671721\\r\\n209,2020,3 Southern Metro,Port Phillip,9957,8552.874580173\\r\\n210,2020,3 Southern Metro,Stonnington,9462,7980.298059325\\r\\n211,2020,4 Western,Ararat,894,7473.666610935\\r\\n212,2020,4 Western,Ballarat,8711,7824.837188412\\r\\n213,2020,4 Western,Buloke,254,4163.251925914\\r\\n214,2020,4 Western,Campaspe,2798,7428.055644048\\r\\n215,2020,4 Western,Central Goldfields,866,6614.726550565\\r\\n216,2020,4 Western,Colac-Otway,1280,5910.329223808\\r\\n217,2020,4 Western,Corangamite,548,3440.698185471\\r\\n218,2020,4 Western,Gannawarra,608,5846.153846154\\r\\n219,2020,4 Western,Glenelg,1165,5938.423896422\\r\\n220,2020,4 Western,Golden Plains,472,1947.114392971\\r\\n221,2020,4 Western,Greater Bendigo,8323,6939.418699661\\r\\n222,2020,4 Western,Greater Geelong,17000,6420.351759743\\r\\n223,2020,4 Western,Hepburn,738,4567.962366923\\r\\n224,2020,4 Western,Hindmarsh,246,4399.141630901\\r\\n225,2020,4 Western,Horsham,1356,6775.934439336\\r\\n226,2020,4 Western,Loddon,366,4897.631473304\\r\\n227,2020,4 Western,Macedon Ranges,1724,3383.244696509\\r\\n228,2020,4 Western,Mildura,5545,9916.660705344\\r\\n229,2020,4 Western,Moorabool,1641,4558.080106661\\r\\n230,2020,4 Western,Mount Alexander,894,4470.223511176\\r\\n231,2020,4 Western,Moyne,506,2972.449039535\\r\\n232,2020,4 Western,Northern Grampians,735,6446.802912025\\r\\n233,2020,4 Western,Pyrenees,350,4632.69358041\\r\\n234,2020,4 Western,Queenscliffe,101,3357.712765957\\r\\n235,2020,4 Western,Southern Grampians,887,5498.729155043\\r\\n236,2020,4 Western,Surf Coast,1043,3000.489053825\\r\\n237,2020,4 Western,Swan Hill,1770,8624.049892808\\r\\n238,2020,4 Western,Warrnambool,2467,6944.991836045\\r\\n239,2020,4 Western,West Wimmera,143,3754.266211604\\r\\n240,2020,4 Western,Yarriambiack,318,4827.690906331\\r\\n241,2020,Justice Institutions and Immigration Facilities,Justice Institutions and Immigration Facilities,1377,\\r\\n242,2020,Unincorporated Vic,Unincorporated Vic,109,\\r\\n243,2019,1 North West Metro,Banyule,7006,5322.090549985\\r\\n244,2019,1 North West Metro,Brimbank,14661,6995.819972515\\r\\n245,2019,1 North West Metro,Darebin,11245,6847.354832424\\r\\n246,2019,1 North West Metro,Hobsons Bay,4848,4958.829847082\\r\\n247,2019,1 North West Metro,Hume,15591,6675.801237449\\r\\n248,2019,1 North West Metro,Maribyrnong,6669,7133.993710019\\r\\n249,2019,1 North West Metro,Melbourne,26587,14853.570510743\\r\\n250,2019,1 North West Metro,Melton,8330,5050.443808508\\r\\n251,2019,1 North West Metro,Moonee Valley,6485,4976.479706553\\r\\n252,2019,1 North West Metro,Moreland,11407,6139.033749347\\r\\n253,2019,1 North West Metro,Nillumbik,1623,2493.125854468\\r\\n254,2019,1 North West Metro,Whittlesea,11912,5172.451226026\\r\\n255,2019,1 North West Metro,Wyndham,11463,4236.032327323\\r\\n256,2019,1 North West Metro,Yarra,11182,11015.012411837\\r\\n257,2019,2 Eastern,Alpine,399,3114.267873868\\r\\n258,2019,2 Eastern,Bass Coast,1782,4907.063197026\\r\\n259,2019,2 Eastern,Baw Baw,3179,5953.852492789\\r\\n260,2019,2 Eastern,Benalla,877,6249.109305971\\r\\n261,2019,2 Eastern,Boroondara,5570,3040.442802011\\r\\n262,2019,2 Eastern,East Gippsland,3193,6749.386995857\\r\\n263,2019,2 Eastern,Greater Shepparton,6228,9365.272702666\\r\\n264,2019,2 Eastern,Indigo,371,2221.689921552\\r\\n265,2019,2 Eastern,Knox,8090,4916.349139791\\r\\n266,2019,2 Eastern,Latrobe,9942,13158.974494726\\r\\n267,2019,2 Eastern,Manningham,3410,2672.727985265\\r\\n268,2019,2 Eastern,Mansfield,321,3498.63760218\\r\\n269,2019,2 Eastern,Maroondah,6034,5089.019895588\\r\\n270,2019,2 Eastern,Mitchell,3034,6583.201336603\\r\\n271,2019,2 Eastern,Moira,1682,5621.657754011\\r\\n272,2019,2 Eastern,Monash,8030,3957.692610993\\r\\n273,2019,2 Eastern,Murrindindi,593,4070.565623284\\r\\n274,2019,2 Eastern,South Gippsland,995,3326.646606486\\r\\n275,2019,2 Eastern,Strathbogie,448,4156.615327519\\r\\n276,2019,2 Eastern,Towong,173,2864.712700778\\r\\n277,2019,2 Eastern,Wangaratta,1639,5616.091008772\\r\\n278,2019,2 Eastern,Wellington,2921,6582.090224886\\r\\n279,2019,2 Eastern,Whitehorse,6361,3558.024152725\\r\\n280,2019,2 Eastern,Wodonga,2420,5750.540598341\\r\\n281,2019,2 Eastern,Yarra Ranges,5767,3616.263466145\\r\\n282,2019,3 Southern Metro,Bayside,3606,3374.635022834\\r\\n283,2019,3 Southern Metro,Cardinia,4697,4187.058183796\\r\\n284,2019,3 Southern Metro,Casey,16217,4581.565252767\\r\\n285,2019,3 Southern Metro,Frankston,11156,7820.813908654\\r\\n286,2019,3 Southern Metro,Glen Eira,4892,3125.179672278\\r\\n287,2019,3 Southern Metro,Greater Dandenong,14195,8436.298369795\\r\\n288,2019,3 Southern Metro,Kingston,8608,5191.672094762\\r\\n289,2019,3 Southern Metro,Mornington Peninsula,8161,4868.779792267\\r\\n290,2019,3 Southern Metro,Port Phillip,9650,8346.306867324\\r\\n291,2019,3 Southern Metro,Stonnington,8170,6936.897160712\\r\\n292,2019,4 Western,Ararat,912,7700.101317123\\r\\n293,2019,4 Western,Ballarat,8129,7423.473115137\\r\\n294,2019,4 Western,Buloke,214,3495.018781643\\r\\n295,2019,4 Western,Campaspe,2919,7760.202047056\\r\\n296,2019,4 Western,Central Goldfields,917,6956.455773024\\r\\n297,2019,4 Western,Colac-Otway,1320,6121.881087098\\r\\n298,2019,4 Western,Corangamite,487,3040.519448086\\r\\n299,2019,4 Western,Gannawarra,581,5549.718215684\\r\\n300,2019,4 Western,Glenelg,956,4859.946113568\\r\\n301,2019,4 Western,Golden Plains,510,2149.903043588\\r\\n302,2019,4 Western,Greater Bendigo,8092,6852.342684879\\r\\n303,2019,4 Western,Greater Geelong,15777,6092.964338954\\r\\n304,2019,4 Western,Hepburn,619,3875.289551118\\r\\n305,2019,4 Western,Hindmarsh,249,4457.572502685\\r\\n306,2019,4 Western,Horsham,1436,7208.835341365\\r\\n307,2019,4 Western,Loddon,386,5145.29458811\\r\\n308,2019,4 Western,Macedon Ranges,1782,3547.680668923\\r\\n309,2019,4 Western,Mildura,5493,9847.792179853\\r\\n310,2019,4 Western,Moorabool,1633,4658.925565604\\r\\n311,2019,4 Western,Mount Alexander,751,3802.33912207\\r\\n312,2019,4 Western,Moyne,458,2701.746106654\\r\\n313,2019,4 Western,Northern Grampians,762,6683.624243487\\r\\n314,2019,4 Western,Pyrenees,419,5609.103078983\\r\\n315,2019,4 Western,Queenscliffe,118,4014.971078598\\r\\n316,2019,4 Western,Southern Grampians,1108,6882.842589142\\r\\n317,2019,4 Western,Surf Coast,899,2687.031114565\\r\\n318,2019,4 Western,Swan Hill,1868,9046.004842615\\r\\n319,2019,4 Western,Warrnambool,3007,8547.227196498\\r\\n320,2019,4 Western,West Wimmera,125,3256.056264652\\r\\n321,2019,4 Western,Yarriambiack,320,4821.455476872\\r\\n322,2019,Justice Institutions and Immigration Facilities,Justice Institutions and Immigration Facilities,1483,\\r\\n323,2019,Unincorporated Vic,Unincorporated Vic,95,\\r\\n'"
      ]
     },
     "execution_count": 47,
     "metadata": {},
     "output_type": "execute_result"
    }
   ],
   "source": [
    " df.to_csv()"
   ]
  },
  {
   "cell_type": "code",
   "execution_count": 22,
   "metadata": {},
   "outputs": [
    {
     "name": "stdout",
     "output_type": "stream",
     "text": [
      "Table ======== region_incident\n",
      "year\n",
      "region_name\n",
      "lga_name\n",
      "incident_count\n",
      "rate_per_100000pop\n",
      "Table ======== lga_offence\n",
      "year\n",
      "psa_name\n",
      "lga_name\n",
      "offence_div_name\n",
      "offence_subdiv_name\n",
      "offence_subgrp_name\n",
      "incident_count\n",
      "psa_rate_per_100000pop\n",
      "lga_rate_per_100000pop\n",
      "region_name\n",
      "Table ======== lga_charge_status\n",
      "year\n",
      "lga_name\n",
      "charge_status_name\n",
      "incident_count\n",
      "Table ======== lga_offence_summary\n",
      "year\n",
      "lga_name\n",
      "a_crime_vs_person\n",
      "b_property_deception\n",
      "c_drug_offence\n",
      "d_public_order_security\n",
      "e_justice_offence\n",
      "f_other_offence\n",
      "region_name\n",
      "offence_total\n"
     ]
    }
   ],
   "source": [
    "# Query tables/columns using metadata function\n",
    "from sqlalchemy import MetaData\n",
    "m = MetaData()\n",
    "m.reflect(engine)\n",
    "for table in m.tables.values():\n",
    "    print(\"Table ======== \"+ table.name)\n",
    "    for column in table.c:\n",
    "        print(column.name)"
   ]
  },
  {
   "cell_type": "markdown",
   "metadata": {},
   "source": [
    "# Exploratory Climate Analysis"
   ]
  },
  {
   "cell_type": "markdown",
   "metadata": {},
   "source": [
    "## Precipitation Analysis"
   ]
  },
  {
   "cell_type": "markdown",
   "metadata": {},
   "source": [
    "### Design a query to retrieve the last 12 months of precipitation data and plot the results"
   ]
  },
  {
   "cell_type": "markdown",
   "metadata": {},
   "source": [
    "### Data Cleansing"
   ]
  },
  {
   "cell_type": "code",
   "execution_count": 20,
   "metadata": {},
   "outputs": [],
   "source": [
    "# Export query result for data exploration and analysis\n",
    "filepath = 'prcp_12mth.csv'  \n",
    "df.to_csv(filepath, index = False)"
   ]
  },
  {
   "cell_type": "code",
   "execution_count": 21,
   "metadata": {},
   "outputs": [
    {
     "data": {
      "text/plain": [
       "2015"
      ]
     },
     "execution_count": 21,
     "metadata": {},
     "output_type": "execute_result"
    }
   ],
   "source": [
    "# Count null prcp and drop those rows\n",
    "df['Prcp'].isna().sum()     # or use len(df) - df['prcp'].count()\n",
    "df = df.dropna(subset=['Prcp'])\n",
    "len(df)"
   ]
  },
  {
   "cell_type": "code",
   "execution_count": 22,
   "metadata": {},
   "outputs": [],
   "source": [
    "# Export query result for data exploration and analysis\n",
    "filepath = 'clean_prcp_12mth.csv'  \n",
    "df.to_csv(filepath, index = False)"
   ]
  },
  {
   "cell_type": "markdown",
   "metadata": {},
   "source": [
    "### Plot precipitation chart"
   ]
  },
  {
   "cell_type": "code",
   "execution_count": 23,
   "metadata": {},
   "outputs": [
    {
     "data": {
      "image/png": "[encoded data removed]",
      "text/plain": [
       "<Figure size 1080x576 with 1 Axes>"
      ]
     },
     "metadata": {},
     "output_type": "display_data"
    }
   ],
   "source": [
    "# Use Pandas Plotting with Matplotlib to plot the data\n",
    "# Generate a scatter plot of Date vs Precipitation\n",
    "label_fontsize = 16\n",
    "title_fontsize = 20\n",
    "plt.rcParams[\"figure.figsize\"] = (15,8)   \n",
    "xt_ranges = [0, 31, 62, 93, 124, 155, 186, 217, 248, 279, 310, 341]\n",
    "\n",
    "plt.bar(df['Date'], df['Prcp'])\n",
    "plt.ylabel('Precipitation (inch)', fontsize= label_fontsize)\n",
    "plt.xlabel('\\nDate', fontsize = label_fontsize)\n",
    "plt.xticks(xt_ranges, rotation = 20)\n",
    "plt.title(\"Hawaii Precipitation (24/08/2016 - 23/08/2017)\", fontsize = title_fontsize);\n",
    "plt.savefig(\"Prcp_12mth.png\")\n",
    "plt.legend([\"Precipitation\"], loc=0);\n"
   ]
  },
  {
   "cell_type": "markdown",
   "metadata": {},
   "source": [
    "### Calculate precipitation summary statistics"
   ]
  },
  {
   "cell_type": "code",
   "execution_count": 12,
   "metadata": {},
   "outputs": [
    {
     "data": {
      "text/html": [
       "<div>\n",
       "<style scoped>\n",
       "    .dataframe tbody tr th:only-of-type {\n",
       "        vertical-align: middle;\n",
       "    }\n",
       "\n",
       "    .dataframe tbody tr th {\n",
       "        vertical-align: top;\n",
       "    }\n",
       "\n",
       "    .dataframe thead th {\n",
       "        text-align: right;\n",
       "    }\n",
       "</style>\n",
       "<table border=\"1\" class=\"dataframe\">\n",
       "  <thead>\n",
       "    <tr style=\"text-align: right;\">\n",
       "      <th></th>\n",
       "      <th>Prcp</th>\n",
       "    </tr>\n",
       "  </thead>\n",
       "  <tbody>\n",
       "    <tr>\n",
       "      <th>count</th>\n",
       "      <td>2015.000000</td>\n",
       "    </tr>\n",
       "    <tr>\n",
       "      <th>mean</th>\n",
       "      <td>0.176462</td>\n",
       "    </tr>\n",
       "    <tr>\n",
       "      <th>std</th>\n",
       "      <td>0.460288</td>\n",
       "    </tr>\n",
       "    <tr>\n",
       "      <th>min</th>\n",
       "      <td>0.000000</td>\n",
       "    </tr>\n",
       "    <tr>\n",
       "      <th>25%</th>\n",
       "      <td>0.000000</td>\n",
       "    </tr>\n",
       "    <tr>\n",
       "      <th>50%</th>\n",
       "      <td>0.020000</td>\n",
       "    </tr>\n",
       "    <tr>\n",
       "      <th>75%</th>\n",
       "      <td>0.130000</td>\n",
       "    </tr>\n",
       "    <tr>\n",
       "      <th>max</th>\n",
       "      <td>6.700000</td>\n",
       "    </tr>\n",
       "  </tbody>\n",
       "</table>\n",
       "</div>"
      ],
      "text/plain": [
       "              Prcp\n",
       "count  2015.000000\n",
       "mean      0.176462\n",
       "std       0.460288\n",
       "min       0.000000\n",
       "25%       0.000000\n",
       "50%       0.020000\n",
       "75%       0.130000\n",
       "max       6.700000"
      ]
     },
     "execution_count": 12,
     "metadata": {},
     "output_type": "execute_result"
    }
   ],
   "source": [
    "# Use Pandas to calcualte the summary statistics for the precipitation data\n",
    "df.describe()"
   ]
  },
  {
   "cell_type": "markdown",
   "metadata": {},
   "source": [
    "## Station Analysis"
   ]
  },
  {
   "cell_type": "markdown",
   "metadata": {},
   "source": [
    "### Find Total of stations in Hawaii"
   ]
  },
  {
   "cell_type": "code",
   "execution_count": 24,
   "metadata": {},
   "outputs": [
    {
     "name": "stdout",
     "output_type": "stream",
     "text": [
      "There are 9 observation stations. \n"
     ]
    }
   ],
   "source": [
    "# Design a query to show how many stations are available in this dataset?\n",
    "counts = session.query(Stn).count()\n",
    "print(f\"There are {counts} observation stations. \")"
   ]
  },
  {
   "cell_type": "markdown",
   "metadata": {},
   "source": [
    "### Find the most active station"
   ]
  },
  {
   "cell_type": "code",
   "execution_count": 25,
   "metadata": {},
   "outputs": [
    {
     "name": "stdout",
     "output_type": "stream",
     "text": [
      "USC00519281 is the most active station, with reading count of 2772\n"
     ]
    }
   ],
   "source": [
    "# What are the most active stations? (i.e. what stations have the most rows)?\n",
    "# List the stations and the counts in descending order.session.query(\n",
    "sel = [Msm.station,\n",
    "    func.count(Msm.station) ] \n",
    "msm_stations = session.query(*sel).\\\n",
    "    group_by(Msm.station).order_by(desc(func.count(Msm.station))).all()\n",
    "\n",
    "df = pd.DataFrame(msm_stations, columns=['station','count'])\n",
    "largest = df.loc[0, ['station', 'count']]\n",
    "print(f\"{largest['station']} is the most active station, with reading count of {largest['count']}\")"
   ]
  },
  {
   "cell_type": "code",
   "execution_count": 26,
   "metadata": {},
   "outputs": [
    {
     "data": {
      "text/plain": [
       "[('USC00519281', 2772),\n",
       " ('USC00519397', 2724),\n",
       " ('USC00513117', 2709),\n",
       " ('USC00519523', 2669),\n",
       " ('USC00516128', 2612),\n",
       " ('USC00514830', 2202),\n",
       " ('USC00511918', 1979),\n",
       " ('USC00517948', 1372),\n",
       " ('USC00518838', 511)]"
      ]
     },
     "execution_count": 26,
     "metadata": {},
     "output_type": "execute_result"
    }
   ],
   "source": [
    "msm_stations"
   ]
  },
  {
   "cell_type": "markdown",
   "metadata": {},
   "source": [
    "### Calculate lowest, highest, and average temperature of the most active station"
   ]
  },
  {
   "cell_type": "code",
   "execution_count": 27,
   "metadata": {},
   "outputs": [
    {
     "data": {
      "text/html": [
       "<div>\n",
       "<style scoped>\n",
       "    .dataframe tbody tr th:only-of-type {\n",
       "        vertical-align: middle;\n",
       "    }\n",
       "\n",
       "    .dataframe tbody tr th {\n",
       "        vertical-align: top;\n",
       "    }\n",
       "\n",
       "    .dataframe thead th {\n",
       "        text-align: right;\n",
       "    }\n",
       "</style>\n",
       "<table border=\"1\" class=\"dataframe\">\n",
       "  <thead>\n",
       "    <tr style=\"text-align: right;\">\n",
       "      <th></th>\n",
       "      <th>Station</th>\n",
       "      <th>Min Tobs</th>\n",
       "      <th>Max Tobs</th>\n",
       "      <th>Avg Tobs</th>\n",
       "    </tr>\n",
       "  </thead>\n",
       "  <tbody>\n",
       "    <tr>\n",
       "      <th>0</th>\n",
       "      <td>USC00519281</td>\n",
       "      <td>54.0</td>\n",
       "      <td>85.0</td>\n",
       "      <td>71.663781</td>\n",
       "    </tr>\n",
       "  </tbody>\n",
       "</table>\n",
       "</div>"
      ],
      "text/plain": [
       "       Station  Min Tobs  Max Tobs   Avg Tobs\n",
       "0  USC00519281      54.0      85.0  71.663781"
      ]
     },
     "execution_count": 27,
     "metadata": {},
     "output_type": "execute_result"
    }
   ],
   "source": [
    "# Using the station id from the previous query, calculate the lowest temperature recorded, \n",
    "# highest temperature recorded, and average temperature of the most active station?\n",
    "sel = [Msm.station,\n",
    "    func.min(Msm.tobs),\n",
    "    func.max(Msm.tobs),\n",
    "    func.avg(Msm.tobs) ] \n",
    "measure_stations = session.query(*sel).filter(Msm.station == \"USC00519281\").all()\n",
    "\n",
    "df = pd.DataFrame(measure_stations, columns=['Station','Min Tobs', 'Max Tobs', 'Avg Tobs'])\n",
    "df\n"
   ]
  },
  {
   "cell_type": "markdown",
   "metadata": {},
   "source": [
    "### Find the last 12 months of temperature observation data for this station"
   ]
  },
  {
   "cell_type": "code",
   "execution_count": 28,
   "metadata": {},
   "outputs": [
    {
     "data": {
      "text/html": [
       "<div>\n",
       "<style scoped>\n",
       "    .dataframe tbody tr th:only-of-type {\n",
       "        vertical-align: middle;\n",
       "    }\n",
       "\n",
       "    .dataframe tbody tr th {\n",
       "        vertical-align: top;\n",
       "    }\n",
       "\n",
       "    .dataframe thead th {\n",
       "        text-align: right;\n",
       "    }\n",
       "</style>\n",
       "<table border=\"1\" class=\"dataframe\">\n",
       "  <thead>\n",
       "    <tr style=\"text-align: right;\">\n",
       "      <th></th>\n",
       "      <th>Date</th>\n",
       "      <th>Tobs</th>\n",
       "    </tr>\n",
       "  </thead>\n",
       "  <tbody>\n",
       "    <tr>\n",
       "      <th>0</th>\n",
       "      <td>2016-08-24</td>\n",
       "      <td>77.0</td>\n",
       "    </tr>\n",
       "    <tr>\n",
       "      <th>1</th>\n",
       "      <td>2016-08-25</td>\n",
       "      <td>80.0</td>\n",
       "    </tr>\n",
       "    <tr>\n",
       "      <th>2</th>\n",
       "      <td>2016-08-26</td>\n",
       "      <td>80.0</td>\n",
       "    </tr>\n",
       "    <tr>\n",
       "      <th>3</th>\n",
       "      <td>2016-08-27</td>\n",
       "      <td>75.0</td>\n",
       "    </tr>\n",
       "    <tr>\n",
       "      <th>4</th>\n",
       "      <td>2016-08-28</td>\n",
       "      <td>73.0</td>\n",
       "    </tr>\n",
       "  </tbody>\n",
       "</table>\n",
       "</div>"
      ],
      "text/plain": [
       "         Date  Tobs\n",
       "0  2016-08-24  77.0\n",
       "1  2016-08-25  80.0\n",
       "2  2016-08-26  80.0\n",
       "3  2016-08-27  75.0\n",
       "4  2016-08-28  73.0"
      ]
     },
     "execution_count": 28,
     "metadata": {},
     "output_type": "execute_result"
    }
   ],
   "source": [
    "# Query the last 12 months of temperature observation data for this station and plot the results as a histogram\n",
    "sel = [Msm.date, \n",
    "       Msm.tobs]\n",
    "measure_12mths = session.query(*sel).\\\n",
    "    filter(func.strftime(Msm.date) > \"2016-08-23\",\\\n",
    "           Msm.station == \"USC00519281\" ).order_by(asc(Msm.date)).all()\n",
    "\n",
    "# Save the query results as a Pandas DataFrame and set the index to the date column\n",
    "df = pd.DataFrame(measure_12mths, columns=['Date','Tobs'])\n",
    "df.head()"
   ]
  },
  {
   "cell_type": "markdown",
   "metadata": {},
   "source": [
    "### Plot a histogram with a 12 bins for the station"
   ]
  },
  {
   "cell_type": "code",
   "execution_count": 31,
   "metadata": {},
   "outputs": [
    {
     "data": {
      "image/png": "[encoded data removed]",
      "text/plain": [
       "<Figure size 576x360 with 1 Axes>"
      ]
     },
     "metadata": {},
     "output_type": "display_data"
    }
   ],
   "source": [
    "\n",
    "plt.rcParams[\"figure.figsize\"] = (8,5)   \n",
    "plt.hist(df[\"Tobs\"], bins=12)\n",
    "plt.xlabel('\\nTemperature (F)',fontsize = label_fontsize)\n",
    "plt.ylabel('Frequency',fontsize = label_fontsize)\n",
    "plt.title('Hawaii Temperature Observation \\n(24/08/2016 - 23/08/2016)', fontsize = title_fontsize)\n",
    "plt.legend([\"Tobs\"], loc=0)\n",
    "plt.savefig(\"Tobs_12mth.png\")\n",
    "plt.show();"
   ]
  },
  {
   "cell_type": "markdown",
   "metadata": {},
   "source": [
    "## Bonus Challenge Assignment"
   ]
  },
  {
   "cell_type": "markdown",
   "metadata": {},
   "source": [
    "#### Define function to calculate TMIN, TMAX, TAVG, TCOUNT for a date range"
   ]
  },
  {
   "cell_type": "code",
   "execution_count": 33,
   "metadata": {},
   "outputs": [
    {
     "name": "stdout",
     "output_type": "stream",
     "text": [
      "{'Min Temp': 62.0, 'Max Temp': 74.0, 'Avg Temp': 69.57142857142857, 'Count Temp': 56}\n"
     ]
    }
   ],
   "source": [
    "# This function called `calc_temps` will accept start date and end date in the format '%Y-%m-%d' \n",
    "# and return the minimum, average, and maximum temperatures for that range of dates\n",
    "def calc_temps(start_date, end_date):     \n",
    "    sel =   [func.min(Msm.tobs),\n",
    "            func.max(Msm.tobs),\n",
    "            func.avg(Msm.tobs),\n",
    "            func.count(Msm.tobs)]\n",
    "    if start_date != '':\n",
    "        if end_date != '':\n",
    "            tobs = session.query(*sel).filter(Msm.date >= start_date).filter(Msm.date <= end_date).all()\n",
    "        else:           \n",
    "            tobs = session.query(*sel).filter(Msm.date >= start_date).all()\n",
    "\n",
    "    tobs = list(tobs[0])    \n",
    "    keys = [\"Min Temp\", \"Max Temp\", \"Avg Temp\", \"Count Temp\"]\n",
    "    dict_tobs = {key: value for key, value in zip(keys, tobs)}\n",
    "    return dict_tobs\n",
    "\n",
    "# function usage example\n",
    "print(calc_temps('2012-02-28', '2012-03-05'))"
   ]
  },
  {
   "cell_type": "markdown",
   "metadata": {},
   "source": [
    "#### Check TMIN, TMAX, TAVG, TCOUNT for my trip"
   ]
  },
  {
   "cell_type": "code",
   "execution_count": 34,
   "metadata": {},
   "outputs": [
    {
     "name": "stdout",
     "output_type": "stream",
     "text": [
      "{'Min Temp': 64.0, 'Max Temp': 78.0, 'Avg Temp': 72.02777777777777, 'Count Temp': 36}\n"
     ]
    }
   ],
   "source": [
    "# Use your previous function `calc_temps` to calculate the tmin, tavg, and tmax \n",
    "# for your trip using the previous year's data for those same dates.\n",
    "trip_dates = \"2017-02-28 to 2017-03-05\"\n",
    "avg_tobs = calc_temps('2017-02-28', '2017-03-05')\n",
    "print(avg_tobs)"
   ]
  },
  {
   "cell_type": "markdown",
   "metadata": {},
   "source": [
    "#### Plot bar chart for my trip with yerr "
   ]
  },
  {
   "cell_type": "code",
   "execution_count": 35,
   "metadata": {},
   "outputs": [
    {
     "data": {
      "image/png": "[encoded data removed]",
      "text/plain": [
       "<Figure size 288x576 with 1 Axes>"
      ]
     },
     "metadata": {},
     "output_type": "display_data"
    }
   ],
   "source": [
    "# Plot the results from your previous query as a bar chart. \n",
    "# Use \"Trip Avg Temp\" as your Title\n",
    "\n",
    "plt.rcParams[\"figure.figsize\"] = (4,8)   \n",
    "\n",
    "# Use the average temperature for the y value; use the peak-to-peak (tmax-tmin) as the yerr\n",
    "plt.bar(0, avg_tobs['Avg Temp'], yerr=(avg_tobs['Max Temp']-avg_tobs['Min Temp']))\n",
    "plt.ylabel('Temp (F)', fontsize= label_fontsize)\n",
    "plt.savefig(\"TripAvgTemp .png\")\n",
    "plt.title(f\"Trip Avg Temp\\n\\n ({trip_dates})\", fontsize = title_fontsize);"
   ]
  }
 ],
 "metadata": {
  "kernel_info": {
   "name": "python3"
  },
  "kernelspec": {
   "display_name": "Python 3.7.13 ('bootcamp')",
   "language": "python",
   "name": "python3"
  },
  "language_info": {
   "codemirror_mode": {
    "name": "ipython",
    "version": 3
   },
   "file_extension": ".py",
   "mimetype": "text/x-python",
   "name": "python",
   "nbconvert_exporter": "python",
   "pygments_lexer": "ipython3",
   "version": "3.7.13"
  },
  "nteract": {
   "version": "0.12.3"
  },
  "varInspector": {
   "cols": {
    "lenName": 16,
    "lenType": 16,
    "lenVar": 40
   },
   "kernels_config": {
    "python": {
     "delete_cmd_postfix": "",
     "delete_cmd_prefix": "del ",
     "library": "var_list.py",
     "varRefreshCmd": "print(var_dic_list())"
    },
    "r": {
     "delete_cmd_postfix": ") ",
     "delete_cmd_prefix": "rm(",
     "library": "var_list.r",
     "varRefreshCmd": "cat(var_dic_list()) "
    }
   },
   "types_to_exclude": [
    "module",
    "function",
    "builtin_function_or_method",
    "instance",
    "_Feature"
   ],
   "window_display": false
  },
  "vscode": {
   "interpreter": {
    "hash": "048ab9dd6cc338f9ed387f57c1ac5591c4dc3f11e42bccfd8eeed32f389c85f1"
   }
  }
 },
 "nbformat": 4,
 "nbformat_minor": 2
}
